{
 "cells": [
  {
   "cell_type": "code",
   "execution_count": null,
   "id": "64345c77",
   "metadata": {},
   "outputs": [],
   "source": [
    "import pymunk\n",
    "import pygame\n",
    "import pymunk.pygame_util"
   ]
  },
  {
   "cell_type": "code",
   "execution_count": null,
   "id": "50ad2c2a",
   "metadata": {},
   "outputs": [],
   "source": [
    "pygame.init()\n",
    "screen = pygame.display.set_mode((600, 600))\n",
    "draw_options = pymunk.pygame_util.DrawOptions(screen)\n",
    "clock = pygame.time.Clock()\n",
    "running = True\n",
    "\n",
    "space = pymunk.Space()\n",
    "space.gravity = 0, 100\n",
    "\n",
    "a1  = pymunk.Body(body_type=pymunk.Body.STATIC)\n",
    "a1.position = 100,500\n",
    "c1 = pymunk.Circle(a1, radius=5)\n",
    "c1.friction = 0.7 \n",
    "c1.elasticity = 0.1\n",
    "a2  = pymunk.Body(body_type=pymunk.Body.STATIC)\n",
    "a2.position = 500,500\n",
    "c2 = pymunk.Circle(a2, radius=5)\n",
    "c2.friction = 0.7\n",
    "c2.elasticity = 0.1\n",
    "space.add(a1,c1,a2,c2)"
   ]
  },
  {
   "cell_type": "code",
   "execution_count": null,
   "id": "6db607e7",
   "metadata": {},
   "outputs": [],
   "source": [
    "space.iterations = 300\n",
    "space.damping = 0.3\n",
    "roads = []\n",
    "joints = []  # Store joints to access their forces later\n",
    "\n",
    "for x in range(0, 4):\n",
    "    r = pymunk.Body(mass=5, moment=5)\n",
    "    r.position = 150 + x * 100, 500\n",
    "    print(r.position)\n",
    "    rod = pymunk.Segment(r, (-51, 0), (51, 0), 10)\n",
    "    rod.friction = 0.8\n",
    "    rod.elasticity = 0.1  \n",
    "    \n",
    "    if(x == 0):\n",
    "        joint = pymunk.constraints.PivotJoint(a1, r, (0, 0), (-51, 0))\n",
    "    else:\n",
    "        joint = pymunk.constraints.PivotJoint(roads[-1], r, (51, 0), (-51, 0))\n",
    "\n",
    "    joint.collide_bodies = False\n",
    "    roads.append(r)\n",
    "    joints.append(joint)  # Store joint reference\n",
    "    space.add(r, rod, joint)\n",
    "\n",
    "\n",
    "final_joint = pymunk.constraints.PivotJoint(roads[-1], a2, (51, 0), (0, 0))\n",
    "final_joint.collide_bodies = False\n",
    "joints.append(final_joint)  \n",
    "space.add(final_joint)\n",
    "\n",
    "\n",
    "dt = 0.001  \n",
    "while running:\n",
    "    for event in pygame.event.get():\n",
    "        if event.type == pygame.QUIT:\n",
    "            running = False\n",
    "\n",
    "    screen.fill(\"purple\")\n",
    "    space.debug_draw(draw_options)\n",
    "    \n",
    "    space.step(dt)\n",
    "    \n",
    "    # Get tension for each joint\n",
    "    for i, joint in enumerate(joints):\n",
    "        tension = joint.impulse / dt\n",
    "        print(f\"Segment {i} tension: {tension:.2f}N\")\n",
    "    \n",
    "    pygame.display.update()\n",
    "\n",
    "pygame.quit()\n"
   ]
  }
 ],
 "metadata": {
  "kernelspec": {
   "display_name": "torch",
   "language": "python",
   "name": "python3"
  },
  "language_info": {
   "codemirror_mode": {
    "name": "ipython",
    "version": 3
   },
   "file_extension": ".py",
   "mimetype": "text/x-python",
   "name": "python",
   "nbconvert_exporter": "python",
   "pygments_lexer": "ipython3",
   "version": "3.11.5"
  }
 },
 "nbformat": 4,
 "nbformat_minor": 5
}
